{
 "cells": [
  {
   "cell_type": "markdown",
   "id": "2dba5bfd-b780-4f28-a0b1-c10cdc60c458",
   "metadata": {},
   "source": [
    "# Bibliotecas"
   ]
  },
  {
   "cell_type": "code",
   "execution_count": 7,
   "id": "9bd0c2e1-b6a2-4e27-8732-934c09249bc8",
   "metadata": {},
   "outputs": [],
   "source": [
    "import matplotlib.pyplot as plt\n",
    "import seaborn as sns\n",
    "import pandas as pd\n",
    "import numpy as np\n",
    "\n",
    "import os"
   ]
  },
  {
   "cell_type": "markdown",
   "id": "de968499-589e-4b0a-bff0-607f4fef4e37",
   "metadata": {},
   "source": [
    "# 1. Caminho dos faces cropadas"
   ]
  },
  {
   "cell_type": "code",
   "execution_count": 8,
   "id": "31fc4525-1422-4cf2-8208-52e5dfb048a3",
   "metadata": {},
   "outputs": [],
   "source": [
    "paths = [\n",
    "    \"/home/lucas/datasets/300W_crop_face/\",\n",
    "    \"/home/lucas/datasets/afw_crop_face/\",\n",
    "    \"/home/lucas/datasets/helen_crop_face/\",\n",
    "    \"/home/lucas/datasets/lfpw_crop_face/\"\n",
    "]"
   ]
  },
  {
   "cell_type": "markdown",
   "id": "a2a86ef4-04e9-4f6a-91de-9f3dfb388178",
   "metadata": {},
   "source": [
    "# 2. Quantificação das imagens"
   ]
  },
  {
   "cell_type": "code",
   "execution_count": 29,
   "id": "39e297db-e624-466d-9ab8-9515dac0395d",
   "metadata": {},
   "outputs": [],
   "source": [
    "aux = []\n",
    "for path_ in paths:\n",
    "    name = path_.split(\"/\")[-2].split(\"_\")[0]\n",
    "    qtd = len(os.listdir(path_))\n",
    "    aux.append([name.upper(),qtd])"
   ]
  },
  {
   "cell_type": "code",
   "execution_count": 36,
   "id": "202c9b1d-d339-415d-b7c8-91bececf5587",
   "metadata": {},
   "outputs": [
    {
     "data": {
      "text/html": [
       "<div>\n",
       "<style scoped>\n",
       "    .dataframe tbody tr th:only-of-type {\n",
       "        vertical-align: middle;\n",
       "    }\n",
       "\n",
       "    .dataframe tbody tr th {\n",
       "        vertical-align: top;\n",
       "    }\n",
       "\n",
       "    .dataframe thead th {\n",
       "        text-align: right;\n",
       "    }\n",
       "</style>\n",
       "<table border=\"1\" class=\"dataframe\">\n",
       "  <thead>\n",
       "    <tr style=\"text-align: right;\">\n",
       "      <th></th>\n",
       "      <th>Dataset</th>\n",
       "      <th>Quantidade</th>\n",
       "    </tr>\n",
       "  </thead>\n",
       "  <tbody>\n",
       "    <tr>\n",
       "      <th>2</th>\n",
       "      <td>HELEN</td>\n",
       "      <td>2331</td>\n",
       "    </tr>\n",
       "    <tr>\n",
       "      <th>3</th>\n",
       "      <td>LFPW</td>\n",
       "      <td>1036</td>\n",
       "    </tr>\n",
       "    <tr>\n",
       "      <th>0</th>\n",
       "      <td>300W</td>\n",
       "      <td>600</td>\n",
       "    </tr>\n",
       "    <tr>\n",
       "      <th>1</th>\n",
       "      <td>AFW</td>\n",
       "      <td>338</td>\n",
       "    </tr>\n",
       "  </tbody>\n",
       "</table>\n",
       "</div>"
      ],
      "text/plain": [
       "  Dataset  Quantidade\n",
       "2   HELEN        2331\n",
       "3    LFPW        1036\n",
       "0    300W         600\n",
       "1     AFW         338"
      ]
     },
     "execution_count": 36,
     "metadata": {},
     "output_type": "execute_result"
    }
   ],
   "source": [
    "df = pd.DataFrame(aux,columns=[\"Dataset\",\"Quantidade\"])\n",
    "#df = pd.concat([df,pd.DataFrame([[\"Total\",df['Quantidade'].sum()]],columns=[\"Dataset\",\"Quantidade\"])])\n",
    "df.sort_values(['Quantidade'],inplace=True,ascending=False)\n",
    "df"
   ]
  },
  {
   "cell_type": "markdown",
   "id": "e99f484f-1e32-4982-a226-5a77f2eabbe0",
   "metadata": {},
   "source": [
    "# 3. Plot do histograma de forma horizontal"
   ]
  },
  {
   "cell_type": "code",
   "execution_count": 44,
   "id": "95418ac8-b85e-4344-802c-2ea7da1872ca",
   "metadata": {},
   "outputs": [
    {
     "data": {
      "image/png": "[encoded data removed]",
      "text/plain": [
       "<Figure size 800x500 with 1 Axes>"
      ]
     },
     "metadata": {},
     "output_type": "display_data"
    }
   ],
   "source": [
    "fig, ax = plt.subplots(figsize=(8,5))\n",
    "bar = sns.barplot(df,x='Quantidade',y='Dataset',ax=ax)\n",
    "\n",
    "for container in bar.containers:                                                \n",
    "    ax.bar_label(container, fmt='%d',padding=2)\n",
    "\n",
    "ax.spines[\"top\"].set_visible(False)                                             \n",
    "ax.spines[\"left\"].set_visible(False)                                            \n",
    "ax.spines[\"right\"].set_visible(False)                                           \n",
    "ax.spines[\"bottom\"].set_visible(False)\n",
    "\n",
    "ax.set_xticks([])\n",
    "\n",
    "ax.annotate(f\"Total: {df['Quantidade'].sum()}\",xy=(2331,3))\n",
    "\n",
    "plt.show()"
   ]
  },
  {
   "cell_type": "code",
   "execution_count": null,
   "id": "36c67895-7a88-4328-850a-b5ee93649982",
   "metadata": {},
   "outputs": [],
   "source": []
  }
 ],
 "metadata": {
  "kernelspec": {
   "display_name": "Python 3 (ipykernel)",
   "language": "python",
   "name": "python3"
  },
  "language_info": {
   "codemirror_mode": {
    "name": "ipython",
    "version": 3
   },
   "file_extension": ".py",
   "mimetype": "text/x-python",
   "name": "python",
   "nbconvert_exporter": "python",
   "pygments_lexer": "ipython3",
   "version": "3.11.9"
  }
 },
 "nbformat": 4,
 "nbformat_minor": 5
}
