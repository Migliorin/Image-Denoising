{
 "cells": [
  {
   "cell_type": "markdown",
   "id": "51d0d3a8-ba3c-455f-9751-305e8ceb2fda",
   "metadata": {},
   "source": [
    "# Bibliotecas"
   ]
  },
  {
   "cell_type": "code",
   "execution_count": 17,
   "id": "22ebf82c-c876-4f56-ac88-6767d4cb7556",
   "metadata": {},
   "outputs": [],
   "source": [
    "from tqdm.notebook import tqdm\n",
    "\n",
    "import pandas as pd\n",
    "import os\n",
    "\n",
    "from sklearn.model_selection import train_test_split"
   ]
  },
  {
   "cell_type": "markdown",
   "id": "09111070-cf24-44bc-b1f9-269499120a3b",
   "metadata": {},
   "source": [
    "# 1. Modelos de ruídos"
   ]
  },
  {
   "cell_type": "code",
   "execution_count": 2,
   "id": "f2c89d8a-d09a-49aa-919a-15ced11f16f4",
   "metadata": {},
   "outputs": [],
   "source": [
    "noises_available = ['gaussian', 'uniform', 'exponential', 'poisson', 'salt_pepper']"
   ]
  },
  {
   "cell_type": "markdown",
   "id": "c3e49f61-e7ff-46e5-807a-71b347e4f9fa",
   "metadata": {},
   "source": [
    "# 2. Criando dataframe base\n"
   ]
  },
  {
   "cell_type": "code",
   "execution_count": 11,
   "id": "ebe0ee69-814c-4508-9d29-f260e419d791",
   "metadata": {},
   "outputs": [
    {
     "data": {
      "application/vnd.jupyter.widget-view+json": {
       "model_id": "36d873878fbb412b8eee126cb4747ddc",
       "version_major": 2,
       "version_minor": 0
      },
      "text/plain": [
       "  0%|          | 0/600 [00:00<?, ?it/s]"
      ]
     },
     "metadata": {},
     "output_type": "display_data"
    },
    {
     "data": {
      "application/vnd.jupyter.widget-view+json": {
       "model_id": "a5cc3a71f6224ff191e3d054a312ae0c",
       "version_major": 2,
       "version_minor": 0
      },
      "text/plain": [
       "  0%|          | 0/1035 [00:00<?, ?it/s]"
      ]
     },
     "metadata": {},
     "output_type": "display_data"
    },
    {
     "data": {
      "application/vnd.jupyter.widget-view+json": {
       "model_id": "893cff77ccdd4a689a2306df01ba7f96",
       "version_major": 2,
       "version_minor": 0
      },
      "text/plain": [
       "  0%|          | 0/337 [00:00<?, ?it/s]"
      ]
     },
     "metadata": {},
     "output_type": "display_data"
    },
    {
     "data": {
      "application/vnd.jupyter.widget-view+json": {
       "model_id": "b2574e8ead964bd19d694c52bfff8fcc",
       "version_major": 2,
       "version_minor": 0
      },
      "text/plain": [
       "  0%|          | 0/2330 [00:00<?, ?it/s]"
      ]
     },
     "metadata": {},
     "output_type": "display_data"
    }
   ],
   "source": [
    "PATH = \"/home/lucas/datasets\"\n",
    "arquivos = []\n",
    "for dir_ in [x for x in os.listdir(PATH) if \"crop_face\" in x]:\n",
    "    root_ = f\"{PATH}/{dir_}\"\n",
    "    lista = [x for x in os.listdir(root_) if (x.endswith(\"png\") or x.endswith(\"jpeg\") or x.endswith(\"jpg\"))]\n",
    "    for file_ in tqdm(lista):\n",
    "        arquivos.append([f\"{root_}/{file_}\",file_,dir_.split(\"_\")[0],\"normal\"])"
   ]
  },
  {
   "cell_type": "code",
   "execution_count": 14,
   "id": "5dd35a69-6d56-4291-9a38-05b70cd51ffb",
   "metadata": {},
   "outputs": [
    {
     "data": {
      "text/html": [
       "<div>\n",
       "<style scoped>\n",
       "    .dataframe tbody tr th:only-of-type {\n",
       "        vertical-align: middle;\n",
       "    }\n",
       "\n",
       "    .dataframe tbody tr th {\n",
       "        vertical-align: top;\n",
       "    }\n",
       "\n",
       "    .dataframe thead th {\n",
       "        text-align: right;\n",
       "    }\n",
       "</style>\n",
       "<table border=\"1\" class=\"dataframe\">\n",
       "  <thead>\n",
       "    <tr style=\"text-align: right;\">\n",
       "      <th></th>\n",
       "      <th>full_path</th>\n",
       "      <th>image_name</th>\n",
       "      <th>dataset</th>\n",
       "      <th>noise</th>\n",
       "    </tr>\n",
       "  </thead>\n",
       "  <tbody>\n",
       "    <tr>\n",
       "      <th>0</th>\n",
       "      <td>/home/lucas/datasets/300W_crop_face/outdoor_08...</td>\n",
       "      <td>outdoor_085.png</td>\n",
       "      <td>300W</td>\n",
       "      <td>normal</td>\n",
       "    </tr>\n",
       "    <tr>\n",
       "      <th>1</th>\n",
       "      <td>/home/lucas/datasets/300W_crop_face/indoor_297...</td>\n",
       "      <td>indoor_297.png</td>\n",
       "      <td>300W</td>\n",
       "      <td>normal</td>\n",
       "    </tr>\n",
       "    <tr>\n",
       "      <th>2</th>\n",
       "      <td>/home/lucas/datasets/300W_crop_face/outdoor_22...</td>\n",
       "      <td>outdoor_227.png</td>\n",
       "      <td>300W</td>\n",
       "      <td>normal</td>\n",
       "    </tr>\n",
       "    <tr>\n",
       "      <th>3</th>\n",
       "      <td>/home/lucas/datasets/300W_crop_face/outdoor_03...</td>\n",
       "      <td>outdoor_031.png</td>\n",
       "      <td>300W</td>\n",
       "      <td>normal</td>\n",
       "    </tr>\n",
       "    <tr>\n",
       "      <th>4</th>\n",
       "      <td>/home/lucas/datasets/300W_crop_face/outdoor_02...</td>\n",
       "      <td>outdoor_023.png</td>\n",
       "      <td>300W</td>\n",
       "      <td>normal</td>\n",
       "    </tr>\n",
       "    <tr>\n",
       "      <th>...</th>\n",
       "      <td>...</td>\n",
       "      <td>...</td>\n",
       "      <td>...</td>\n",
       "      <td>...</td>\n",
       "    </tr>\n",
       "    <tr>\n",
       "      <th>4297</th>\n",
       "      <td>/home/lucas/datasets/helen_crop_face/253368567...</td>\n",
       "      <td>2533685677_2.png</td>\n",
       "      <td>helen</td>\n",
       "      <td>normal</td>\n",
       "    </tr>\n",
       "    <tr>\n",
       "      <th>4298</th>\n",
       "      <td>/home/lucas/datasets/helen_crop_face/220369372...</td>\n",
       "      <td>2203693721_2.png</td>\n",
       "      <td>helen</td>\n",
       "      <td>normal</td>\n",
       "    </tr>\n",
       "    <tr>\n",
       "      <th>4299</th>\n",
       "      <td>/home/lucas/datasets/helen_crop_face/230071339...</td>\n",
       "      <td>2300713390_1.png</td>\n",
       "      <td>helen</td>\n",
       "      <td>normal</td>\n",
       "    </tr>\n",
       "    <tr>\n",
       "      <th>4300</th>\n",
       "      <td>/home/lucas/datasets/helen_crop_face/314447301...</td>\n",
       "      <td>3144473012_2.png</td>\n",
       "      <td>helen</td>\n",
       "      <td>normal</td>\n",
       "    </tr>\n",
       "    <tr>\n",
       "      <th>4301</th>\n",
       "      <td>/home/lucas/datasets/helen_crop_face/230298735...</td>\n",
       "      <td>2302987350_1.png</td>\n",
       "      <td>helen</td>\n",
       "      <td>normal</td>\n",
       "    </tr>\n",
       "  </tbody>\n",
       "</table>\n",
       "<p>4302 rows × 4 columns</p>\n",
       "</div>"
      ],
      "text/plain": [
       "                                              full_path        image_name  \\\n",
       "0     /home/lucas/datasets/300W_crop_face/outdoor_08...   outdoor_085.png   \n",
       "1     /home/lucas/datasets/300W_crop_face/indoor_297...    indoor_297.png   \n",
       "2     /home/lucas/datasets/300W_crop_face/outdoor_22...   outdoor_227.png   \n",
       "3     /home/lucas/datasets/300W_crop_face/outdoor_03...   outdoor_031.png   \n",
       "4     /home/lucas/datasets/300W_crop_face/outdoor_02...   outdoor_023.png   \n",
       "...                                                 ...               ...   \n",
       "4297  /home/lucas/datasets/helen_crop_face/253368567...  2533685677_2.png   \n",
       "4298  /home/lucas/datasets/helen_crop_face/220369372...  2203693721_2.png   \n",
       "4299  /home/lucas/datasets/helen_crop_face/230071339...  2300713390_1.png   \n",
       "4300  /home/lucas/datasets/helen_crop_face/314447301...  3144473012_2.png   \n",
       "4301  /home/lucas/datasets/helen_crop_face/230298735...  2302987350_1.png   \n",
       "\n",
       "     dataset   noise  \n",
       "0       300W  normal  \n",
       "1       300W  normal  \n",
       "2       300W  normal  \n",
       "3       300W  normal  \n",
       "4       300W  normal  \n",
       "...      ...     ...  \n",
       "4297   helen  normal  \n",
       "4298   helen  normal  \n",
       "4299   helen  normal  \n",
       "4300   helen  normal  \n",
       "4301   helen  normal  \n",
       "\n",
       "[4302 rows x 4 columns]"
      ]
     },
     "execution_count": 14,
     "metadata": {},
     "output_type": "execute_result"
    }
   ],
   "source": [
    "df_base = pd.DataFrame(arquivos,columns=[\"full_path\",\"image_name\",\"dataset\",\"noise\"])\n",
    "df_base"
   ]
  },
  {
   "cell_type": "markdown",
   "id": "55889629-f0a0-45b8-af91-74d0685c4685",
   "metadata": {},
   "source": [
    "# 3. Aplicando ruído - Somente Salt Pepper"
   ]
  },
  {
   "cell_type": "code",
   "execution_count": 16,
   "id": "e13a4a59-da1c-4597-ab14-5853a6978aa6",
   "metadata": {},
   "outputs": [
    {
     "data": {
      "text/html": [
       "<div>\n",
       "<style scoped>\n",
       "    .dataframe tbody tr th:only-of-type {\n",
       "        vertical-align: middle;\n",
       "    }\n",
       "\n",
       "    .dataframe tbody tr th {\n",
       "        vertical-align: top;\n",
       "    }\n",
       "\n",
       "    .dataframe thead th {\n",
       "        text-align: right;\n",
       "    }\n",
       "</style>\n",
       "<table border=\"1\" class=\"dataframe\">\n",
       "  <thead>\n",
       "    <tr style=\"text-align: right;\">\n",
       "      <th></th>\n",
       "      <th>full_path</th>\n",
       "      <th>image_name</th>\n",
       "      <th>dataset</th>\n",
       "      <th>noise</th>\n",
       "    </tr>\n",
       "  </thead>\n",
       "  <tbody>\n",
       "    <tr>\n",
       "      <th>0</th>\n",
       "      <td>/home/lucas/datasets/300W_crop_face/outdoor_08...</td>\n",
       "      <td>outdoor_085.png</td>\n",
       "      <td>300W</td>\n",
       "      <td>salt_pepper</td>\n",
       "    </tr>\n",
       "    <tr>\n",
       "      <th>1</th>\n",
       "      <td>/home/lucas/datasets/300W_crop_face/indoor_297...</td>\n",
       "      <td>indoor_297.png</td>\n",
       "      <td>300W</td>\n",
       "      <td>salt_pepper</td>\n",
       "    </tr>\n",
       "    <tr>\n",
       "      <th>2</th>\n",
       "      <td>/home/lucas/datasets/300W_crop_face/outdoor_22...</td>\n",
       "      <td>outdoor_227.png</td>\n",
       "      <td>300W</td>\n",
       "      <td>salt_pepper</td>\n",
       "    </tr>\n",
       "    <tr>\n",
       "      <th>3</th>\n",
       "      <td>/home/lucas/datasets/300W_crop_face/outdoor_03...</td>\n",
       "      <td>outdoor_031.png</td>\n",
       "      <td>300W</td>\n",
       "      <td>salt_pepper</td>\n",
       "    </tr>\n",
       "    <tr>\n",
       "      <th>4</th>\n",
       "      <td>/home/lucas/datasets/300W_crop_face/outdoor_02...</td>\n",
       "      <td>outdoor_023.png</td>\n",
       "      <td>300W</td>\n",
       "      <td>salt_pepper</td>\n",
       "    </tr>\n",
       "    <tr>\n",
       "      <th>...</th>\n",
       "      <td>...</td>\n",
       "      <td>...</td>\n",
       "      <td>...</td>\n",
       "      <td>...</td>\n",
       "    </tr>\n",
       "    <tr>\n",
       "      <th>8599</th>\n",
       "      <td>/home/lucas/datasets/helen_crop_face/253368567...</td>\n",
       "      <td>2533685677_2.png</td>\n",
       "      <td>helen</td>\n",
       "      <td>normal</td>\n",
       "    </tr>\n",
       "    <tr>\n",
       "      <th>8600</th>\n",
       "      <td>/home/lucas/datasets/helen_crop_face/220369372...</td>\n",
       "      <td>2203693721_2.png</td>\n",
       "      <td>helen</td>\n",
       "      <td>normal</td>\n",
       "    </tr>\n",
       "    <tr>\n",
       "      <th>8601</th>\n",
       "      <td>/home/lucas/datasets/helen_crop_face/230071339...</td>\n",
       "      <td>2300713390_1.png</td>\n",
       "      <td>helen</td>\n",
       "      <td>normal</td>\n",
       "    </tr>\n",
       "    <tr>\n",
       "      <th>8602</th>\n",
       "      <td>/home/lucas/datasets/helen_crop_face/314447301...</td>\n",
       "      <td>3144473012_2.png</td>\n",
       "      <td>helen</td>\n",
       "      <td>normal</td>\n",
       "    </tr>\n",
       "    <tr>\n",
       "      <th>8603</th>\n",
       "      <td>/home/lucas/datasets/helen_crop_face/230298735...</td>\n",
       "      <td>2302987350_1.png</td>\n",
       "      <td>helen</td>\n",
       "      <td>normal</td>\n",
       "    </tr>\n",
       "  </tbody>\n",
       "</table>\n",
       "<p>8604 rows × 4 columns</p>\n",
       "</div>"
      ],
      "text/plain": [
       "                                              full_path        image_name  \\\n",
       "0     /home/lucas/datasets/300W_crop_face/outdoor_08...   outdoor_085.png   \n",
       "1     /home/lucas/datasets/300W_crop_face/indoor_297...    indoor_297.png   \n",
       "2     /home/lucas/datasets/300W_crop_face/outdoor_22...   outdoor_227.png   \n",
       "3     /home/lucas/datasets/300W_crop_face/outdoor_03...   outdoor_031.png   \n",
       "4     /home/lucas/datasets/300W_crop_face/outdoor_02...   outdoor_023.png   \n",
       "...                                                 ...               ...   \n",
       "8599  /home/lucas/datasets/helen_crop_face/253368567...  2533685677_2.png   \n",
       "8600  /home/lucas/datasets/helen_crop_face/220369372...  2203693721_2.png   \n",
       "8601  /home/lucas/datasets/helen_crop_face/230071339...  2300713390_1.png   \n",
       "8602  /home/lucas/datasets/helen_crop_face/314447301...  3144473012_2.png   \n",
       "8603  /home/lucas/datasets/helen_crop_face/230298735...  2302987350_1.png   \n",
       "\n",
       "     dataset        noise  \n",
       "0       300W  salt_pepper  \n",
       "1       300W  salt_pepper  \n",
       "2       300W  salt_pepper  \n",
       "3       300W  salt_pepper  \n",
       "4       300W  salt_pepper  \n",
       "...      ...          ...  \n",
       "8599   helen       normal  \n",
       "8600   helen       normal  \n",
       "8601   helen       normal  \n",
       "8602   helen       normal  \n",
       "8603   helen       normal  \n",
       "\n",
       "[8604 rows x 4 columns]"
      ]
     },
     "execution_count": 16,
     "metadata": {},
     "output_type": "execute_result"
    }
   ],
   "source": [
    "df_salt_pepper = df_base.copy()\n",
    "df_salt_pepper[\"noise\"] = \"salt_pepper\"\n",
    "\n",
    "df_v1 = pd.concat([df_salt_pepper,df_base])\n",
    "df_v1.reset_index(inplace=True,drop=True)\n",
    "df_v1"
   ]
  },
  {
   "cell_type": "markdown",
   "id": "416da635-f464-4b22-9709-87a92438b296",
   "metadata": {},
   "source": [
    "## 3.1 Separando em treino, teste e validação"
   ]
  },
  {
   "cell_type": "code",
   "execution_count": 50,
   "id": "a66fb6c2-79ec-4d69-9be5-17a285381c19",
   "metadata": {},
   "outputs": [
    {
     "data": {
      "application/vnd.jupyter.widget-view+json": {
       "model_id": "f81d44f38a7147228098503a84fabe09",
       "version_major": 2,
       "version_minor": 0
      },
      "text/plain": [
       "  0%|          | 0/4 [00:00<?, ?it/s]"
      ]
     },
     "metadata": {},
     "output_type": "display_data"
    }
   ],
   "source": [
    "train_list = []\n",
    "test_list = []\n",
    "val_list = []\n",
    "\n",
    "for dataset in tqdm(df_v1.dataset.unique()):\n",
    "    aux = df_v1[df_v1['dataset'] == dataset]\n",
    "    train, test = train_test_split(aux,test_size=0.30,stratify=aux[\"noise\"])\n",
    "    test, val = train_test_split(test,test_size=0.50,stratify=test[\"noise\"])\n",
    "    \n",
    "    train_list.append(train.copy())\n",
    "    test_list.append(test.copy())\n",
    "    val_list.append(val.copy())\n",
    "\n",
    "train = pd.concat(train_list)\n",
    "train[\"split\"] = \"train\"\n",
    "test = pd.concat(test_list)\n",
    "test[\"split\"] = \"test\"\n",
    "val = pd.concat(val_list)\n",
    "val[\"split\"] = \"val\"\n",
    "\n",
    "df_v1 = pd.concat([train,val,test])"
   ]
  },
  {
   "cell_type": "code",
   "execution_count": 33,
   "id": "7f95c684-e6c9-473a-ba81-057222f7d92b",
   "metadata": {},
   "outputs": [
    {
     "data": {
      "text/plain": [
       "(6022, 4)"
      ]
     },
     "execution_count": 33,
     "metadata": {},
     "output_type": "execute_result"
    }
   ],
   "source": [
    "train.shape"
   ]
  },
  {
   "cell_type": "code",
   "execution_count": 34,
   "id": "6c61b1d3-0249-4b51-a847-8bb40381c98d",
   "metadata": {},
   "outputs": [
    {
     "data": {
      "text/plain": [
       "(1290, 4)"
      ]
     },
     "execution_count": 34,
     "metadata": {},
     "output_type": "execute_result"
    }
   ],
   "source": [
    "test.shape"
   ]
  },
  {
   "cell_type": "code",
   "execution_count": 35,
   "id": "18d8bba5-a8af-4ecc-9d1b-f1df6fc5020f",
   "metadata": {},
   "outputs": [
    {
     "data": {
      "text/plain": [
       "(1292, 4)"
      ]
     },
     "execution_count": 35,
     "metadata": {},
     "output_type": "execute_result"
    }
   ],
   "source": [
    "val.shape"
   ]
  },
  {
   "cell_type": "markdown",
   "id": "5fe2c627-78a0-48f3-9e72-ea192321d528",
   "metadata": {},
   "source": [
    "## 3.2 Salvando dataframe"
   ]
  },
  {
   "cell_type": "code",
   "execution_count": 52,
   "id": "53a95dd5-508a-4568-84ad-af03362f382e",
   "metadata": {},
   "outputs": [],
   "source": [
    "df_v1.to_csv(\"/home/lucas/datasets/dataframe_v1.cv\",index=False)"
   ]
  },
  {
   "cell_type": "code",
   "execution_count": 53,
   "id": "5a975d65-0a0b-47d0-ae81-915842ee0188",
   "metadata": {},
   "outputs": [
    {
     "data": {
      "text/plain": [
       "(8604, 5)"
      ]
     },
     "execution_count": 53,
     "metadata": {},
     "output_type": "execute_result"
    }
   ],
   "source": [
    "df_v1.shape"
   ]
  }
 ],
 "metadata": {
  "kernelspec": {
   "display_name": "Python 3 (ipykernel)",
   "language": "python",
   "name": "python3"
  },
  "language_info": {
   "codemirror_mode": {
    "name": "ipython",
    "version": 3
   },
   "file_extension": ".py",
   "mimetype": "text/x-python",
   "name": "python",
   "nbconvert_exporter": "python",
   "pygments_lexer": "ipython3",
   "version": "3.11.9"
  }
 },
 "nbformat": 4,
 "nbformat_minor": 5
}
