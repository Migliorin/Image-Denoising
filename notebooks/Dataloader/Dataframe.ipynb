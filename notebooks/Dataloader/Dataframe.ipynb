{
 "cells": [
  {
   "cell_type": "markdown",
   "id": "51d0d3a8-ba3c-455f-9751-305e8ceb2fda",
   "metadata": {},
   "source": [
    "# Bibliotecas"
   ]
  },
  {
   "cell_type": "code",
   "execution_count": 1,
   "id": "22ebf82c-c876-4f56-ac88-6767d4cb7556",
   "metadata": {},
   "outputs": [],
   "source": [
    "from tqdm.notebook import tqdm\n",
    "\n",
    "import pandas as pd\n",
    "import os\n",
    "\n",
    "from sklearn.model_selection import train_test_split"
   ]
  },
  {
   "cell_type": "markdown",
   "id": "09111070-cf24-44bc-b1f9-269499120a3b",
   "metadata": {},
   "source": [
    "# 1. Modelos de ruídos"
   ]
  },
  {
   "cell_type": "code",
   "execution_count": 7,
   "id": "7925a78d-987d-42db-ba18-090db3cc5f82",
   "metadata": {},
   "outputs": [],
   "source": [
    "noises_available = ['gaussian', 'uniform', 'exponential', 'poisson', 'salt_pepper', 'blur']"
   ]
  },
  {
   "cell_type": "code",
   "execution_count": 2,
   "id": "f2c89d8a-d09a-49aa-919a-15ced11f16f4",
   "metadata": {},
   "outputs": [],
   "source": [
    "noises_available = ['gaussian', 'uniform', 'exponential', 'poisson', 'salt_pepper']"
   ]
  },
  {
   "cell_type": "markdown",
   "id": "c3e49f61-e7ff-46e5-807a-71b347e4f9fa",
   "metadata": {},
   "source": [
    "# 2. Criando dataframe base\n"
   ]
  },
  {
   "cell_type": "code",
   "execution_count": 8,
   "id": "ebe0ee69-814c-4508-9d29-f260e419d791",
   "metadata": {},
   "outputs": [
    {
     "data": {
      "application/vnd.jupyter.widget-view+json": {
       "model_id": "f43ada4ad4354934bf7b6e572a314e9b",
       "version_major": 2,
       "version_minor": 0
      },
      "text/plain": [
       "  0%|          | 0/2330 [00:00<?, ?it/s]"
      ]
     },
     "metadata": {},
     "output_type": "display_data"
    },
    {
     "data": {
      "application/vnd.jupyter.widget-view+json": {
       "model_id": "ed4e3cddb3c148128dfbefe997e64d67",
       "version_major": 2,
       "version_minor": 0
      },
      "text/plain": [
       "  0%|          | 0/337 [00:00<?, ?it/s]"
      ]
     },
     "metadata": {},
     "output_type": "display_data"
    },
    {
     "data": {
      "application/vnd.jupyter.widget-view+json": {
       "model_id": "5c589822790f4bb8adf6bdbd68a5bcfc",
       "version_major": 2,
       "version_minor": 0
      },
      "text/plain": [
       "  0%|          | 0/1035 [00:00<?, ?it/s]"
      ]
     },
     "metadata": {},
     "output_type": "display_data"
    },
    {
     "data": {
      "application/vnd.jupyter.widget-view+json": {
       "model_id": "0e7e11a7acba4cd795dfe747f67d8e22",
       "version_major": 2,
       "version_minor": 0
      },
      "text/plain": [
       "  0%|          | 0/600 [00:00<?, ?it/s]"
      ]
     },
     "metadata": {},
     "output_type": "display_data"
    }
   ],
   "source": [
    "PATH = \"/media/ssd/lucas/image-denoising-dataset/\"\n",
    "arquivos = []\n",
    "for dir_ in [x for x in os.listdir(PATH) if \"crop_face\" in x]:\n",
    "    root_ = f\"{PATH}/{dir_}\"\n",
    "    lista = [x for x in os.listdir(root_) if (x.endswith(\"png\") or x.endswith(\"jpeg\") or x.endswith(\"jpg\"))]\n",
    "    for file_ in tqdm(lista):\n",
    "        arquivos.append([f\"{root_}/{file_}\",file_,dir_.split(\"_\")[0],\"normal\"])"
   ]
  },
  {
   "cell_type": "code",
   "execution_count": 10,
   "id": "5dd35a69-6d56-4291-9a38-05b70cd51ffb",
   "metadata": {},
   "outputs": [
    {
     "data": {
      "text/html": [
       "<div>\n",
       "<style scoped>\n",
       "    .dataframe tbody tr th:only-of-type {\n",
       "        vertical-align: middle;\n",
       "    }\n",
       "\n",
       "    .dataframe tbody tr th {\n",
       "        vertical-align: top;\n",
       "    }\n",
       "\n",
       "    .dataframe thead th {\n",
       "        text-align: right;\n",
       "    }\n",
       "</style>\n",
       "<table border=\"1\" class=\"dataframe\">\n",
       "  <thead>\n",
       "    <tr style=\"text-align: right;\">\n",
       "      <th></th>\n",
       "      <th>full_path</th>\n",
       "      <th>image_name</th>\n",
       "      <th>dataset</th>\n",
       "      <th>noise</th>\n",
       "    </tr>\n",
       "  </thead>\n",
       "  <tbody>\n",
       "    <tr>\n",
       "      <th>0</th>\n",
       "      <td>/media/ssd/lucas/image-denoising-dataset//hele...</td>\n",
       "      <td>2268207831_1.png</td>\n",
       "      <td>helen</td>\n",
       "      <td>normal</td>\n",
       "    </tr>\n",
       "    <tr>\n",
       "      <th>1</th>\n",
       "      <td>/media/ssd/lucas/image-denoising-dataset//hele...</td>\n",
       "      <td>2699413804_1.png</td>\n",
       "      <td>helen</td>\n",
       "      <td>normal</td>\n",
       "    </tr>\n",
       "    <tr>\n",
       "      <th>2</th>\n",
       "      <td>/media/ssd/lucas/image-denoising-dataset//hele...</td>\n",
       "      <td>2570281375_1.png</td>\n",
       "      <td>helen</td>\n",
       "      <td>normal</td>\n",
       "    </tr>\n",
       "    <tr>\n",
       "      <th>3</th>\n",
       "      <td>/media/ssd/lucas/image-denoising-dataset//hele...</td>\n",
       "      <td>2741633807_1.png</td>\n",
       "      <td>helen</td>\n",
       "      <td>normal</td>\n",
       "    </tr>\n",
       "    <tr>\n",
       "      <th>4</th>\n",
       "      <td>/media/ssd/lucas/image-denoising-dataset//hele...</td>\n",
       "      <td>2588017894_1.png</td>\n",
       "      <td>helen</td>\n",
       "      <td>normal</td>\n",
       "    </tr>\n",
       "    <tr>\n",
       "      <th>...</th>\n",
       "      <td>...</td>\n",
       "      <td>...</td>\n",
       "      <td>...</td>\n",
       "      <td>...</td>\n",
       "    </tr>\n",
       "    <tr>\n",
       "      <th>4297</th>\n",
       "      <td>/media/ssd/lucas/image-denoising-dataset//300W...</td>\n",
       "      <td>indoor_248.png</td>\n",
       "      <td>300W</td>\n",
       "      <td>normal</td>\n",
       "    </tr>\n",
       "    <tr>\n",
       "      <th>4298</th>\n",
       "      <td>/media/ssd/lucas/image-denoising-dataset//300W...</td>\n",
       "      <td>indoor_191.png</td>\n",
       "      <td>300W</td>\n",
       "      <td>normal</td>\n",
       "    </tr>\n",
       "    <tr>\n",
       "      <th>4299</th>\n",
       "      <td>/media/ssd/lucas/image-denoising-dataset//300W...</td>\n",
       "      <td>indoor_169.png</td>\n",
       "      <td>300W</td>\n",
       "      <td>normal</td>\n",
       "    </tr>\n",
       "    <tr>\n",
       "      <th>4300</th>\n",
       "      <td>/media/ssd/lucas/image-denoising-dataset//300W...</td>\n",
       "      <td>indoor_168.png</td>\n",
       "      <td>300W</td>\n",
       "      <td>normal</td>\n",
       "    </tr>\n",
       "    <tr>\n",
       "      <th>4301</th>\n",
       "      <td>/media/ssd/lucas/image-denoising-dataset//300W...</td>\n",
       "      <td>indoor_152.png</td>\n",
       "      <td>300W</td>\n",
       "      <td>normal</td>\n",
       "    </tr>\n",
       "  </tbody>\n",
       "</table>\n",
       "<p>4302 rows × 4 columns</p>\n",
       "</div>"
      ],
      "text/plain": [
       "                                              full_path        image_name  \\\n",
       "0     /media/ssd/lucas/image-denoising-dataset//hele...  2268207831_1.png   \n",
       "1     /media/ssd/lucas/image-denoising-dataset//hele...  2699413804_1.png   \n",
       "2     /media/ssd/lucas/image-denoising-dataset//hele...  2570281375_1.png   \n",
       "3     /media/ssd/lucas/image-denoising-dataset//hele...  2741633807_1.png   \n",
       "4     /media/ssd/lucas/image-denoising-dataset//hele...  2588017894_1.png   \n",
       "...                                                 ...               ...   \n",
       "4297  /media/ssd/lucas/image-denoising-dataset//300W...    indoor_248.png   \n",
       "4298  /media/ssd/lucas/image-denoising-dataset//300W...    indoor_191.png   \n",
       "4299  /media/ssd/lucas/image-denoising-dataset//300W...    indoor_169.png   \n",
       "4300  /media/ssd/lucas/image-denoising-dataset//300W...    indoor_168.png   \n",
       "4301  /media/ssd/lucas/image-denoising-dataset//300W...    indoor_152.png   \n",
       "\n",
       "     dataset   noise  \n",
       "0      helen  normal  \n",
       "1      helen  normal  \n",
       "2      helen  normal  \n",
       "3      helen  normal  \n",
       "4      helen  normal  \n",
       "...      ...     ...  \n",
       "4297    300W  normal  \n",
       "4298    300W  normal  \n",
       "4299    300W  normal  \n",
       "4300    300W  normal  \n",
       "4301    300W  normal  \n",
       "\n",
       "[4302 rows x 4 columns]"
      ]
     },
     "execution_count": 10,
     "metadata": {},
     "output_type": "execute_result"
    }
   ],
   "source": [
    "df_base = pd.DataFrame(arquivos,columns=[\"full_path\",\"image_name\",\"dataset\",\"noise\"])\n",
    "df_base"
   ]
  },
  {
   "cell_type": "markdown",
   "id": "55889629-f0a0-45b8-af91-74d0685c4685",
   "metadata": {},
   "source": [
    "# 3. Aplicando ruído - Somente Salt Pepper"
   ]
  },
  {
   "cell_type": "code",
   "execution_count": 8,
   "id": "a25be8c2-b023-49a0-a876-3d6682037f8d",
   "metadata": {},
   "outputs": [],
   "source": [
    "df_salt_pepper = df_base.copy()\n",
    "df_salt_pepper[\"noise\"] = \"salt_pepper\""
   ]
  },
  {
   "cell_type": "markdown",
   "id": "028200ac-8b29-4db5-b325-3bba5caeccdc",
   "metadata": {},
   "source": [
    "## 3.1 Separando para treinamento"
   ]
  },
  {
   "cell_type": "code",
   "execution_count": 9,
   "id": "5088a410-0304-4c46-a3de-37eaa325032b",
   "metadata": {},
   "outputs": [
    {
     "data": {
      "application/vnd.jupyter.widget-view+json": {
       "model_id": "ebff122ef5794a44ac7756fe9bc86c08",
       "version_major": 2,
       "version_minor": 0
      },
      "text/plain": [
       "  0%|          | 0/4 [00:00<?, ?it/s]"
      ]
     },
     "metadata": {},
     "output_type": "display_data"
    }
   ],
   "source": [
    "train_list = []\n",
    "test_list = []\n",
    "val_list = []\n",
    "\n",
    "for dataset in tqdm(df_v1.dataset.unique()):\n",
    "    aux = df_v1[df_v1['dataset'] == dataset]\n",
    "    train, test = train_test_split(aux,test_size=0.30,stratify=aux[\"noise\"])\n",
    "    test, val = train_test_split(test,test_size=0.50,stratify=test[\"noise\"])\n",
    "    \n",
    "    train_list.append(train.copy())\n",
    "    test_list.append(test.copy())\n",
    "    val_list.append(val.copy())\n",
    "\n",
    "train = pd.concat(train_list)\n",
    "train[\"split\"] = \"train\"\n",
    "test = pd.concat(test_list)\n",
    "test[\"split\"] = \"test\"\n",
    "val = pd.concat(val_list)\n",
    "val[\"split\"] = \"val\"\n",
    "\n",
    "df_v1 = pd.concat([train,val,test])"
   ]
  },
  {
   "cell_type": "markdown",
   "id": "509f3f81-5bc6-4f16-a210-1a4b11f48f87",
   "metadata": {},
   "source": [
    "## 3.2 Salvando o dataframe"
   ]
  },
  {
   "cell_type": "code",
   "execution_count": 12,
   "id": "423437a5-2d36-4c2a-94d3-705bbb4ae969",
   "metadata": {},
   "outputs": [],
   "source": [
    "df_v1.to_csv(\"/home/lucas/datasets/dataframe_v1.csv\",index=False)"
   ]
  },
  {
   "cell_type": "markdown",
   "id": "a17e9d78-37ce-4091-aecc-3457c4737abb",
   "metadata": {},
   "source": [
    "# 4. Aplicando Ruídos"
   ]
  },
  {
   "cell_type": "code",
   "execution_count": 11,
   "id": "98e6e8cd-f819-4765-8ee1-0d98b4fe10bf",
   "metadata": {},
   "outputs": [],
   "source": [
    "aux = []\n",
    "for noise_ in noises_available:\n",
    "    aux_df = df_base.copy()\n",
    "    aux_df[\"noise\"] = noise_\n",
    "    aux.append(aux_df)\n",
    "\n",
    "df_noise = pd.concat(aux)\n",
    "df_noise.reset_index(drop=True,inplace=True)"
   ]
  },
  {
   "cell_type": "markdown",
   "id": "7acfa940-2279-4525-b2be-baf5cce47658",
   "metadata": {},
   "source": [
    "## 4.1 Separando em treino, teste e validação"
   ]
  },
  {
   "cell_type": "code",
   "execution_count": 12,
   "id": "521b4622-29cb-4dc6-a402-e89f7ff11e67",
   "metadata": {},
   "outputs": [
    {
     "data": {
      "application/vnd.jupyter.widget-view+json": {
       "model_id": "de4dd4b7928b4e78ba0fbbbfcb2768d3",
       "version_major": 2,
       "version_minor": 0
      },
      "text/plain": [
       "  0%|          | 0/4 [00:00<?, ?it/s]"
      ]
     },
     "metadata": {},
     "output_type": "display_data"
    }
   ],
   "source": [
    "train_list = []\n",
    "test_list = []\n",
    "val_list = []\n",
    "\n",
    "for dataset in tqdm(df_noise.dataset.unique()):\n",
    "    aux = df_noise[df_noise['dataset'] == dataset]\n",
    "    train, test = train_test_split(aux,test_size=0.30,stratify=aux[\"noise\"])\n",
    "    test, val = train_test_split(test,test_size=0.50,stratify=test[\"noise\"])\n",
    "    \n",
    "    train_list.append(train.copy())\n",
    "    test_list.append(test.copy())\n",
    "    val_list.append(val.copy())\n",
    "\n",
    "train = pd.concat(train_list)\n",
    "train[\"split\"] = \"train\"\n",
    "test = pd.concat(test_list)\n",
    "test[\"split\"] = \"test\"\n",
    "val = pd.concat(val_list)\n",
    "val[\"split\"] = \"val\"\n",
    "\n",
    "df_v2 = pd.concat([train,val,test])"
   ]
  },
  {
   "cell_type": "code",
   "execution_count": 14,
   "id": "6f34e6ac-aa45-43a5-a684-b8078ce14652",
   "metadata": {},
   "outputs": [
    {
     "data": {
      "text/plain": [
       "array(['blur', 'poisson', 'exponential', 'gaussian', 'salt_pepper',\n",
       "       'uniform'], dtype=object)"
      ]
     },
     "execution_count": 14,
     "metadata": {},
     "output_type": "execute_result"
    }
   ],
   "source": [
    "df_v2.noise.unique()"
   ]
  },
  {
   "cell_type": "markdown",
   "id": "666376a4-a22a-4bfd-b4da-ef280099736b",
   "metadata": {},
   "source": [
    "# 4.2 Salvando dataframe"
   ]
  },
  {
   "cell_type": "code",
   "execution_count": 15,
   "id": "d6fd1a98-fd4e-44a4-880d-c6b10e276037",
   "metadata": {},
   "outputs": [],
   "source": [
    "df_v2.to_csv(\"/home/lucas/Image-Denoising/dataframes/dataframe_v3.csv\",index=False)"
   ]
  },
  {
   "cell_type": "markdown",
   "id": "02d0d866-be77-467e-9b8b-ea570b2b9ff7",
   "metadata": {},
   "source": [
    "# 5. Codigo para ser usado com mais ruidos"
   ]
  },
  {
   "cell_type": "code",
   "execution_count": 5,
   "id": "e13a4a59-da1c-4597-ab14-5853a6978aa6",
   "metadata": {},
   "outputs": [
    {
     "data": {
      "text/html": [
       "<div>\n",
       "<style scoped>\n",
       "    .dataframe tbody tr th:only-of-type {\n",
       "        vertical-align: middle;\n",
       "    }\n",
       "\n",
       "    .dataframe tbody tr th {\n",
       "        vertical-align: top;\n",
       "    }\n",
       "\n",
       "    .dataframe thead th {\n",
       "        text-align: right;\n",
       "    }\n",
       "</style>\n",
       "<table border=\"1\" class=\"dataframe\">\n",
       "  <thead>\n",
       "    <tr style=\"text-align: right;\">\n",
       "      <th></th>\n",
       "      <th>full_path</th>\n",
       "      <th>image_name</th>\n",
       "      <th>dataset</th>\n",
       "      <th>noise</th>\n",
       "    </tr>\n",
       "  </thead>\n",
       "  <tbody>\n",
       "    <tr>\n",
       "      <th>0</th>\n",
       "      <td>/home/lucas/datasets/300W_crop_face/outdoor_08...</td>\n",
       "      <td>outdoor_085.png</td>\n",
       "      <td>300W</td>\n",
       "      <td>salt_pepper</td>\n",
       "    </tr>\n",
       "    <tr>\n",
       "      <th>1</th>\n",
       "      <td>/home/lucas/datasets/300W_crop_face/indoor_297...</td>\n",
       "      <td>indoor_297.png</td>\n",
       "      <td>300W</td>\n",
       "      <td>salt_pepper</td>\n",
       "    </tr>\n",
       "    <tr>\n",
       "      <th>2</th>\n",
       "      <td>/home/lucas/datasets/300W_crop_face/outdoor_22...</td>\n",
       "      <td>outdoor_227.png</td>\n",
       "      <td>300W</td>\n",
       "      <td>salt_pepper</td>\n",
       "    </tr>\n",
       "    <tr>\n",
       "      <th>3</th>\n",
       "      <td>/home/lucas/datasets/300W_crop_face/outdoor_03...</td>\n",
       "      <td>outdoor_031.png</td>\n",
       "      <td>300W</td>\n",
       "      <td>salt_pepper</td>\n",
       "    </tr>\n",
       "    <tr>\n",
       "      <th>4</th>\n",
       "      <td>/home/lucas/datasets/300W_crop_face/outdoor_02...</td>\n",
       "      <td>outdoor_023.png</td>\n",
       "      <td>300W</td>\n",
       "      <td>salt_pepper</td>\n",
       "    </tr>\n",
       "    <tr>\n",
       "      <th>...</th>\n",
       "      <td>...</td>\n",
       "      <td>...</td>\n",
       "      <td>...</td>\n",
       "      <td>...</td>\n",
       "    </tr>\n",
       "    <tr>\n",
       "      <th>8599</th>\n",
       "      <td>/home/lucas/datasets/helen_crop_face/253368567...</td>\n",
       "      <td>2533685677_2.png</td>\n",
       "      <td>helen</td>\n",
       "      <td>normal</td>\n",
       "    </tr>\n",
       "    <tr>\n",
       "      <th>8600</th>\n",
       "      <td>/home/lucas/datasets/helen_crop_face/220369372...</td>\n",
       "      <td>2203693721_2.png</td>\n",
       "      <td>helen</td>\n",
       "      <td>normal</td>\n",
       "    </tr>\n",
       "    <tr>\n",
       "      <th>8601</th>\n",
       "      <td>/home/lucas/datasets/helen_crop_face/230071339...</td>\n",
       "      <td>2300713390_1.png</td>\n",
       "      <td>helen</td>\n",
       "      <td>normal</td>\n",
       "    </tr>\n",
       "    <tr>\n",
       "      <th>8602</th>\n",
       "      <td>/home/lucas/datasets/helen_crop_face/314447301...</td>\n",
       "      <td>3144473012_2.png</td>\n",
       "      <td>helen</td>\n",
       "      <td>normal</td>\n",
       "    </tr>\n",
       "    <tr>\n",
       "      <th>8603</th>\n",
       "      <td>/home/lucas/datasets/helen_crop_face/230298735...</td>\n",
       "      <td>2302987350_1.png</td>\n",
       "      <td>helen</td>\n",
       "      <td>normal</td>\n",
       "    </tr>\n",
       "  </tbody>\n",
       "</table>\n",
       "<p>8604 rows × 4 columns</p>\n",
       "</div>"
      ],
      "text/plain": [
       "                                              full_path        image_name  \\\n",
       "0     /home/lucas/datasets/300W_crop_face/outdoor_08...   outdoor_085.png   \n",
       "1     /home/lucas/datasets/300W_crop_face/indoor_297...    indoor_297.png   \n",
       "2     /home/lucas/datasets/300W_crop_face/outdoor_22...   outdoor_227.png   \n",
       "3     /home/lucas/datasets/300W_crop_face/outdoor_03...   outdoor_031.png   \n",
       "4     /home/lucas/datasets/300W_crop_face/outdoor_02...   outdoor_023.png   \n",
       "...                                                 ...               ...   \n",
       "8599  /home/lucas/datasets/helen_crop_face/253368567...  2533685677_2.png   \n",
       "8600  /home/lucas/datasets/helen_crop_face/220369372...  2203693721_2.png   \n",
       "8601  /home/lucas/datasets/helen_crop_face/230071339...  2300713390_1.png   \n",
       "8602  /home/lucas/datasets/helen_crop_face/314447301...  3144473012_2.png   \n",
       "8603  /home/lucas/datasets/helen_crop_face/230298735...  2302987350_1.png   \n",
       "\n",
       "     dataset        noise  \n",
       "0       300W  salt_pepper  \n",
       "1       300W  salt_pepper  \n",
       "2       300W  salt_pepper  \n",
       "3       300W  salt_pepper  \n",
       "4       300W  salt_pepper  \n",
       "...      ...          ...  \n",
       "8599   helen       normal  \n",
       "8600   helen       normal  \n",
       "8601   helen       normal  \n",
       "8602   helen       normal  \n",
       "8603   helen       normal  \n",
       "\n",
       "[8604 rows x 4 columns]"
      ]
     },
     "execution_count": 5,
     "metadata": {},
     "output_type": "execute_result"
    }
   ],
   "source": [
    "df_salt_pepper = df_base.copy()\n",
    "df_salt_pepper[\"noise\"] = \"salt_pepper\"\n",
    "\n",
    "df_v1 = pd.concat([df_salt_pepper,df_base])\n",
    "df_v1.reset_index(inplace=True,drop=True)\n",
    "df_v1"
   ]
  },
  {
   "cell_type": "markdown",
   "id": "416da635-f464-4b22-9709-87a92438b296",
   "metadata": {},
   "source": [
    "## 5.1 Separando em treino, teste e validação"
   ]
  },
  {
   "cell_type": "code",
   "execution_count": 50,
   "id": "a66fb6c2-79ec-4d69-9be5-17a285381c19",
   "metadata": {},
   "outputs": [
    {
     "data": {
      "application/vnd.jupyter.widget-view+json": {
       "model_id": "f81d44f38a7147228098503a84fabe09",
       "version_major": 2,
       "version_minor": 0
      },
      "text/plain": [
       "  0%|          | 0/4 [00:00<?, ?it/s]"
      ]
     },
     "metadata": {},
     "output_type": "display_data"
    }
   ],
   "source": [
    "train_list = []\n",
    "test_list = []\n",
    "val_list = []\n",
    "\n",
    "for dataset in tqdm(df_v1.dataset.unique()):\n",
    "    aux = df_v1[df_v1['dataset'] == dataset]\n",
    "    train, test = train_test_split(aux,test_size=0.30,stratify=aux[\"noise\"])\n",
    "    test, val = train_test_split(test,test_size=0.50,stratify=test[\"noise\"])\n",
    "    \n",
    "    train_list.append(train.copy())\n",
    "    test_list.append(test.copy())\n",
    "    val_list.append(val.copy())\n",
    "\n",
    "train = pd.concat(train_list)\n",
    "train[\"split\"] = \"train\"\n",
    "test = pd.concat(test_list)\n",
    "test[\"split\"] = \"test\"\n",
    "val = pd.concat(val_list)\n",
    "val[\"split\"] = \"val\"\n",
    "\n",
    "df_v1 = pd.concat([train,val,test])"
   ]
  },
  {
   "cell_type": "code",
   "execution_count": 33,
   "id": "7f95c684-e6c9-473a-ba81-057222f7d92b",
   "metadata": {},
   "outputs": [
    {
     "data": {
      "text/plain": [
       "(6022, 4)"
      ]
     },
     "execution_count": 33,
     "metadata": {},
     "output_type": "execute_result"
    }
   ],
   "source": [
    "train.shape"
   ]
  },
  {
   "cell_type": "code",
   "execution_count": 34,
   "id": "6c61b1d3-0249-4b51-a847-8bb40381c98d",
   "metadata": {},
   "outputs": [
    {
     "data": {
      "text/plain": [
       "(1290, 4)"
      ]
     },
     "execution_count": 34,
     "metadata": {},
     "output_type": "execute_result"
    }
   ],
   "source": [
    "test.shape"
   ]
  },
  {
   "cell_type": "code",
   "execution_count": 35,
   "id": "18d8bba5-a8af-4ecc-9d1b-f1df6fc5020f",
   "metadata": {},
   "outputs": [
    {
     "data": {
      "text/plain": [
       "(1292, 4)"
      ]
     },
     "execution_count": 35,
     "metadata": {},
     "output_type": "execute_result"
    }
   ],
   "source": [
    "val.shape"
   ]
  },
  {
   "cell_type": "markdown",
   "id": "5fe2c627-78a0-48f3-9e72-ea192321d528",
   "metadata": {},
   "source": [
    "## 5.2 Salvando dataframe"
   ]
  },
  {
   "cell_type": "code",
   "execution_count": 52,
   "id": "53a95dd5-508a-4568-84ad-af03362f382e",
   "metadata": {},
   "outputs": [],
   "source": [
    "df_v1.to_csv(\"/home/lucas/datasets/dataframe_v1.csv\",index=False)"
   ]
  },
  {
   "cell_type": "code",
   "execution_count": 53,
   "id": "5a975d65-0a0b-47d0-ae81-915842ee0188",
   "metadata": {},
   "outputs": [
    {
     "data": {
      "text/plain": [
       "(8604, 5)"
      ]
     },
     "execution_count": 53,
     "metadata": {},
     "output_type": "execute_result"
    }
   ],
   "source": [
    "df_v1.shape"
   ]
  },
  {
   "cell_type": "markdown",
   "id": "71fba2e9-9b0f-4c7c-be0f-855333691eee",
   "metadata": {},
   "source": [
    "# 6. Open dataframe and validate"
   ]
  },
  {
   "cell_type": "code",
   "execution_count": 16,
   "id": "de9f921f-2da0-43c0-b2ac-49ebcc102782",
   "metadata": {},
   "outputs": [],
   "source": [
    "path = \"/home/lucas/Image-Denoising/dataframes/dataframe_v3.csv\""
   ]
  },
  {
   "cell_type": "code",
   "execution_count": 17,
   "id": "0ccc7531-8ff6-4578-95bb-999b082bc224",
   "metadata": {},
   "outputs": [],
   "source": [
    "df = pd.read_csv(path)"
   ]
  },
  {
   "cell_type": "markdown",
   "id": "43433d94-d7a9-4d26-951e-444cdba14b38",
   "metadata": {},
   "source": [
    "## 6.1 Noises used"
   ]
  },
  {
   "cell_type": "code",
   "execution_count": 18,
   "id": "341c9af3-8ef2-4689-811b-96951731f4d4",
   "metadata": {},
   "outputs": [
    {
     "data": {
      "text/plain": [
       "array(['blur', 'poisson', 'exponential', 'gaussian', 'salt_pepper',\n",
       "       'uniform'], dtype=object)"
      ]
     },
     "execution_count": 18,
     "metadata": {},
     "output_type": "execute_result"
    }
   ],
   "source": [
    "df.noise.unique()"
   ]
  },
  {
   "cell_type": "markdown",
   "id": "5674c3f9-e970-4247-a1b5-92752ba00696",
   "metadata": {},
   "source": [
    "## 6.2 Dataframe Length"
   ]
  },
  {
   "cell_type": "code",
   "execution_count": 19,
   "id": "6a23f6e8-272b-469d-a44c-cc67afe932aa",
   "metadata": {},
   "outputs": [
    {
     "data": {
      "text/plain": [
       "(25812, 5)"
      ]
     },
     "execution_count": 19,
     "metadata": {},
     "output_type": "execute_result"
    }
   ],
   "source": [
    "df.shape"
   ]
  },
  {
   "cell_type": "code",
   "execution_count": null,
   "id": "a12fd578-4328-4c09-bf11-408deb1f6d93",
   "metadata": {},
   "outputs": [],
   "source": []
  }
 ],
 "metadata": {
  "kernelspec": {
   "display_name": "Python 3 (ipykernel)",
   "language": "python",
   "name": "python3"
  },
  "language_info": {
   "codemirror_mode": {
    "name": "ipython",
    "version": 3
   },
   "file_extension": ".py",
   "mimetype": "text/x-python",
   "name": "python",
   "nbconvert_exporter": "python",
   "pygments_lexer": "ipython3",
   "version": "3.11.9"
  }
 },
 "nbformat": 4,
 "nbformat_minor": 5
}
