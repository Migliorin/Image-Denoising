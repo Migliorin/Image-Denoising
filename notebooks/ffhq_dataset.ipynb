{
 "cells": [
  {
   "cell_type": "markdown",
   "metadata": {},
   "source": [
    "# Bibliotecas"
   ]
  },
  {
   "cell_type": "code",
   "execution_count": 24,
   "metadata": {},
   "outputs": [],
   "source": [
    "import json\n",
    "import os.path\n",
    "import io\n",
    "import os\n",
    "from typing import List\n",
    "\n",
    "from googleapiclient.discovery import build\n",
    "from google.oauth2.credentials import Credentials\n",
    "from google_auth_oauthlib.flow import InstalledAppFlow\n",
    "from google.auth.transport.requests import Request\n",
    "from googleapiclient.http import MediaIoBaseDownload"
   ]
  },
  {
   "cell_type": "markdown",
   "metadata": {},
   "source": [
    "# 1. Open json file"
   ]
  },
  {
   "cell_type": "code",
   "execution_count": 2,
   "metadata": {},
   "outputs": [],
   "source": [
    "with open(\"/home/lucas/Downloads/ffhq-dataset-v2.json\",\"r\") as infile:\n",
    "    load = json.load(infile)\n",
    "    infile.close()"
   ]
  },
  {
   "cell_type": "code",
   "execution_count": 7,
   "metadata": {},
   "outputs": [
    {
     "data": {
      "text/plain": [
       "'https://drive.google.com/uc?id=1tmArkzG-jTBy53254w174kcsJTM9T7Fc'"
      ]
     },
     "execution_count": 7,
     "metadata": {},
     "output_type": "execute_result"
    }
   ],
   "source": [
    "load['51']['image']['file_url']"
   ]
  },
  {
   "cell_type": "code",
   "execution_count": 32,
   "metadata": {},
   "outputs": [
    {
     "data": {
      "text/plain": [
       "'1tmArkzG-jTBy53254w174kcsJTM9T7Fc'"
      ]
     },
     "execution_count": 32,
     "metadata": {},
     "output_type": "execute_result"
    }
   ],
   "source": [
    "a = load['51']['image']['file_url'].find('id=')\n",
    "load['51']['image']['file_url'][28:].replace('id=','')"
   ]
  },
  {
   "cell_type": "markdown",
   "metadata": {},
   "source": [
    "# 2. Google API"
   ]
  },
  {
   "cell_type": "code",
   "execution_count": 18,
   "metadata": {},
   "outputs": [],
   "source": [
    "scopes = [\"https://www.googleapis.com/auth/drive\"]\n",
    "credentials_path = \"../client_secret.json\"\n",
    "creds = Credentials.from_authorized_user_file(\"token.json\", scopes)"
   ]
  },
  {
   "cell_type": "code",
   "execution_count": 19,
   "metadata": {},
   "outputs": [],
   "source": [
    "service = build(\"drive\", \"v3\", credentials=creds)"
   ]
  },
  {
   "cell_type": "code",
   "execution_count": null,
   "metadata": {},
   "outputs": [],
   "source": []
  },
  {
   "cell_type": "code",
   "execution_count": 20,
   "metadata": {},
   "outputs": [],
   "source": [
    "request = service.files().get_media(fileId='1tmArkzG-jTBy53254w174kcsJTM9T7Fc')"
   ]
  },
  {
   "cell_type": "code",
   "execution_count": 25,
   "metadata": {},
   "outputs": [],
   "source": [
    "fh = io.BytesIO()\n",
    "downloader = MediaIoBaseDownload(fh, request)"
   ]
  },
  {
   "cell_type": "code",
   "execution_count": 27,
   "metadata": {},
   "outputs": [
    {
     "name": "stdout",
     "output_type": "stream",
     "text": [
      "Download 100%.\n"
     ]
    }
   ],
   "source": [
    "done = False\n",
    "while done is False:\n",
    "    status, done = downloader.next_chunk()\n",
    "    print(\"Download %d%%.\" % int(status.progress() * 100))"
   ]
  },
  {
   "cell_type": "code",
   "execution_count": 28,
   "metadata": {},
   "outputs": [],
   "source": [
    "with open('teste.png', \"wb\") as f:\n",
    "    fh.seek(0)\n",
    "    f.write(fh.read())"
   ]
  },
  {
   "cell_type": "code",
   "execution_count": null,
   "metadata": {},
   "outputs": [],
   "source": []
  },
  {
   "cell_type": "code",
   "execution_count": null,
   "metadata": {},
   "outputs": [],
   "source": []
  },
  {
   "cell_type": "code",
   "execution_count": null,
   "metadata": {},
   "outputs": [],
   "source": []
  },
  {
   "cell_type": "code",
   "execution_count": null,
   "metadata": {},
   "outputs": [],
   "source": []
  },
  {
   "cell_type": "code",
   "execution_count": 14,
   "metadata": {},
   "outputs": [
    {
     "name": "stdout",
     "output_type": "stream",
     "text": [
      "Please visit this URL to authorize this application: https://accounts.google.com/o/oauth2/auth?response_type=code&client_id=976236962688-rlku7o58bsq3pvq3mlnsvp4v33d4pah9.apps.googleusercontent.com&redirect_uri=http%3A%2F%2Flocalhost%3A45293%2F&scope=https%3A%2F%2Fwww.googleapis.com%2Fauth%2Fdrive&state=FXzNy94sa8rVVTIgF4IQv8jN5FDh3V&access_type=offline\n"
     ]
    }
   ],
   "source": [
    "flow = InstalledAppFlow.from_client_secrets_file(credentials_path, scopes)\n",
    "creds = flow.run_local_server(port=0)"
   ]
  },
  {
   "cell_type": "code",
   "execution_count": 15,
   "metadata": {},
   "outputs": [],
   "source": [
    "with open(\"token.json\", \"w\") as token:\n",
    "    token.write(creds.to_json())"
   ]
  },
  {
   "cell_type": "code",
   "execution_count": 9,
   "metadata": {},
   "outputs": [],
   "source": [
    "\n",
    "\n",
    "import io\n",
    "import os\n",
    "from typing import List\n",
    "from googleapiclient.discovery import build\n",
    "from google.oauth2.credentials import Credentials\n",
    "from google_auth_oauthlib.flow import InstalledAppFlow\n",
    "from google.auth.transport.requests import Request\n",
    "from googleapiclient.http import MediaIoBaseDownload\n",
    "\n",
    "\n",
    "def run(file_id: str, save_path: str, credentials_path: str, scopes: List[str]):\n",
    "    creds = None\n",
    "    if os.path.exists(\"token.json\"):\n",
    "        creds = Credentials.from_authorized_user_file(\"token.json\", scopes)\n",
    "    if not creds or not creds.valid:\n",
    "        if creds and creds.expired and creds.refresh_token:\n",
    "            creds.refresh(Request())\n",
    "        else:\n",
    "            flow = InstalledAppFlow.from_client_secrets_file(credentials_path, scopes)\n",
    "            creds = flow.run_local_server(port=0)\n",
    "        with open(\"token.json\", \"w\") as token:\n",
    "            token.write(creds.to_json())\n",
    "\n",
    "    service = build(\"drive\", \"v3\", credentials=creds)\n",
    "\n",
    "    # Different files require different download method, and I don't know how to distinguish them at the moment, so I can only try another one after an error\n",
    "    # Export：Docs Editors files\n",
    "    # Get：files with binary content\n",
    "    try:\n",
    "        request = service.files().get_media(fileId=file_id)\n",
    "        fh = io.BytesIO()\n",
    "        downloader = MediaIoBaseDownload(fh, request)\n",
    "        done = False\n",
    "        while done is False:\n",
    "            status, done = downloader.next_chunk()\n",
    "            print(\"Download %d%%.\" % int(status.progress() * 100))\n",
    "    except Exception:\n",
    "        request = service.files().export(\n",
    "            fileId=file_id, mimeType=\"application/vnd.openxmlformats-officedocument.spreadsheetml.sheet\"\n",
    "        )\n",
    "        fh = io.BytesIO()\n",
    "        downloader = MediaIoBaseDownload(fh, request)\n",
    "        done = False\n",
    "        while done is False:\n",
    "            status, done = downloader.next_chunk()\n",
    "            print(\"Download %d%%.\" % int(status.progress() * 100))\n",
    "\n",
    "    with open(save_path, \"wb\") as f:\n",
    "        fh.seek(0)\n",
    "        f.write(fh.read())\n",
    "\n",
    "\n",
    "if __name__ == \"__main__\":\n",
    "    file_id = \"1JI17N-NFAIOxX_2Y88gmuKMlsuGhBPcB\"\n",
    "    save_path = \"Sample Spreadsheet.xlsx\"\n",
    "    scopes = [\"https://www.googleapis.com/auth/drive\"]\n",
    "    credentials_path = \"credentials.json\"\n",
    "    run(file_id, save_path, credentials_path, scopes)\n",
    "\n",
    "\n"
   ]
  },
  {
   "cell_type": "code",
   "execution_count": 10,
   "metadata": {},
   "outputs": [
    {
     "data": {
      "text/plain": [
       "dict_keys(['category', 'metadata', 'image', 'thumbnail', 'in_the_wild'])"
      ]
     },
     "execution_count": 10,
     "metadata": {},
     "output_type": "execute_result"
    }
   ],
   "source": [
    "load['3242'].keys()"
   ]
  },
  {
   "cell_type": "code",
   "execution_count": 16,
   "metadata": {},
   "outputs": [
    {
     "data": {
      "text/plain": [
       "{'category': 'training',\n",
       " 'metadata': {'photo_url': 'https://www.flickr.com/photos/7952984@N02/11026347713/',\n",
       "  'photo_title': '',\n",
       "  'author': 'suran2007',\n",
       "  'country': '',\n",
       "  'license': 'Attribution License',\n",
       "  'license_url': 'https://creativecommons.org/licenses/by/2.0/',\n",
       "  'date_uploaded': '2013-11-24',\n",
       "  'date_crawled': '2018-10-10'},\n",
       " 'image': {'file_url': 'https://drive.google.com/uc?id=16umbkObKDcEC9rWTExiUliBKkTF45SJy',\n",
       "  'file_path': 'images1024x1024/03000/03242.png',\n",
       "  'file_size': 1510761,\n",
       "  'file_md5': '1c02a4b4c3aeb9df63783c0840889084',\n",
       "  'pixel_size': [1024, 1024],\n",
       "  'pixel_md5': 'a0dd45f1bb7f513dea41d50da42a6596',\n",
       "  'face_landmarks': [[376.21, 497.23],\n",
       "   [361.15, 552.88],\n",
       "   [354.52, 610.86],\n",
       "   [367.46, 668.29],\n",
       "   [389.01, 729.67],\n",
       "   [408.78, 804.34],\n",
       "   [421.9, 878.1],\n",
       "   [440.58, 943.08],\n",
       "   [498.92, 967.65],\n",
       "   [589.74, 960.81],\n",
       "   [690.79, 928.29],\n",
       "   [792.19, 884.29],\n",
       "   [885.51, 826.47],\n",
       "   [949.03, 750.71],\n",
       "   [965.88, 652.35],\n",
       "   [960.29, 558.12],\n",
       "   [951.29, 462.63],\n",
       "   [347.28, 384.34],\n",
       "   [362.36, 372.85],\n",
       "   [383.9, 375.36],\n",
       "   [405.26, 390.97],\n",
       "   [425.19, 408.37],\n",
       "   [478.86, 405.67],\n",
       "   [537.36, 372.99],\n",
       "   [600.72, 354.48],\n",
       "   [669.29, 368.11],\n",
       "   [731.4, 397.17],\n",
       "   [452.49, 477.29],\n",
       "   [428.63, 527.38],\n",
       "   [402.62, 572.79],\n",
       "   [379.83, 617.85],\n",
       "   [383.43, 664.88],\n",
       "   [401.39, 679.23],\n",
       "   [424.9, 684.79],\n",
       "   [457.92, 672.94],\n",
       "   [497.77, 663.59],\n",
       "   [386.62, 487.9],\n",
       "   [399.72, 473.36],\n",
       "   [424.31, 473.89],\n",
       "   [450.34, 487.34],\n",
       "   [423.6, 496.86],\n",
       "   [400.62, 496.15],\n",
       "   [560.01, 488.21],\n",
       "   [591.59, 463.44],\n",
       "   [627.85, 465.94],\n",
       "   [665.19, 478.14],\n",
       "   [627.86, 495.38],\n",
       "   [591.96, 496.1],\n",
       "   [420.08, 773.64],\n",
       "   [403.55, 742.77],\n",
       "   [416.29, 725.0],\n",
       "   [436.76, 732.53],\n",
       "   [463.68, 724.63],\n",
       "   [523.81, 735.92],\n",
       "   [595.44, 762.29],\n",
       "   [534.96, 806.64],\n",
       "   [484.71, 825.32],\n",
       "   [457.42, 829.99],\n",
       "   [433.91, 824.43],\n",
       "   [422.24, 807.74],\n",
       "   [427.79, 769.51],\n",
       "   [424.56, 755.15],\n",
       "   [442.69, 756.4],\n",
       "   [470.33, 754.96],\n",
       "   [574.08, 761.4],\n",
       "   [477.34, 788.52],\n",
       "   [449.7, 789.97],\n",
       "   [429.41, 784.05]]},\n",
       " 'thumbnail': {'file_url': 'https://drive.google.com/uc?id=14CLAeHjhn1GjYgaGb7Oh8j02SeIiFrJQ',\n",
       "  'file_path': 'thumbnails128x128/03000/03242.png',\n",
       "  'file_size': 31734,\n",
       "  'file_md5': '58e8889481fb32d16ed8ba3ac97b0acc',\n",
       "  'pixel_size': [128, 128],\n",
       "  'pixel_md5': 'c5d12c0feebfaf10ad5b2272c48780b2'},\n",
       " 'in_the_wild': {'file_url': 'https://drive.google.com/uc?id=1tUje0XDPWPVjjTtR8iYfbNZZfT0tc9e5',\n",
       "  'file_path': 'in-the-wild-images/03000/03242.png',\n",
       "  'file_size': 14739363,\n",
       "  'file_md5': '3cee3f594a2636bb42bbdc929fecda4c',\n",
       "  'pixel_size': [4256, 2832],\n",
       "  'pixel_md5': '3a8d2c9a80ebce0ec3dc92fd357d3823',\n",
       "  'face_rect': [1464, 572, 2356, 1464],\n",
       "  'face_landmarks': [[1757.0, 947.0],\n",
       "   [1731.0, 1013.0],\n",
       "   [1715.0, 1083.0],\n",
       "   [1723.0, 1155.0],\n",
       "   [1741.0, 1233.0],\n",
       "   [1755.0, 1327.0],\n",
       "   [1761.0, 1419.0],\n",
       "   [1775.0, 1501.0],\n",
       "   [1843.0, 1539.0],\n",
       "   [1955.0, 1543.0],\n",
       "   [2083.0, 1517.0],\n",
       "   [2213.0, 1477.0],\n",
       "   [2335.0, 1419.0],\n",
       "   [2423.0, 1335.0],\n",
       "   [2457.0, 1217.0],\n",
       "   [2463.0, 1101.0],\n",
       "   [2465.0, 983.0],\n",
       "   [1737.0, 805.0],\n",
       "   [1757.0, 793.0],\n",
       "   [1783.0, 799.0],\n",
       "   [1807.0, 821.0],\n",
       "   [1829.0, 845.0],\n",
       "   [1895.0, 849.0],\n",
       "   [1971.0, 817.0],\n",
       "   [2051.0, 803.0],\n",
       "   [2133.0, 829.0],\n",
       "   [2205.0, 873.0],\n",
       "   [1853.0, 933.0],\n",
       "   [1817.0, 991.0],\n",
       "   [1779.0, 1043.0],\n",
       "   [1745.0, 1095.0],\n",
       "   [1743.0, 1153.0],\n",
       "   [1763.0, 1173.0],\n",
       "   [1791.0, 1183.0],\n",
       "   [1833.0, 1173.0],\n",
       "   [1883.0, 1167.0],\n",
       "   [1771.0, 937.0],\n",
       "   [1789.0, 921.0],\n",
       "   [1819.0, 925.0],\n",
       "   [1849.0, 945.0],\n",
       "   [1815.0, 953.0],\n",
       "   [1787.0, 949.0],\n",
       "   [1983.0, 961.0],\n",
       "   [2025.0, 935.0],\n",
       "   [2069.0, 943.0],\n",
       "   [2113.0, 963.0],\n",
       "   [2065.0, 979.0],\n",
       "   [2021.0, 975.0],\n",
       "   [1773.0, 1291.0],\n",
       "   [1757.0, 1251.0],\n",
       "   [1775.0, 1231.0],\n",
       "   [1799.0, 1243.0],\n",
       "   [1833.0, 1237.0],\n",
       "   [1905.0, 1259.0],\n",
       "   [1989.0, 1301.0],\n",
       "   [1909.0, 1347.0],\n",
       "   [1845.0, 1363.0],\n",
       "   [1811.0, 1365.0],\n",
       "   [1783.0, 1355.0],\n",
       "   [1771.0, 1333.0],\n",
       "   [1783.0, 1287.0],\n",
       "   [1781.0, 1269.0],\n",
       "   [1803.0, 1273.0],\n",
       "   [1837.0, 1275.0],\n",
       "   [1963.0, 1297.0],\n",
       "   [1841.0, 1317.0],\n",
       "   [1807.0, 1315.0],\n",
       "   [1783.0, 1305.0]],\n",
       "  'face_quad': [[1364.64, 287.68],\n",
       "   [1225.18, 1539.96],\n",
       "   [2477.46, 1679.42],\n",
       "   [2616.92, 427.14]]}}"
      ]
     },
     "execution_count": 16,
     "metadata": {},
     "output_type": "execute_result"
    }
   ],
   "source": [
    "load['3242']"
   ]
  },
  {
   "cell_type": "code",
   "execution_count": 24,
   "metadata": {},
   "outputs": [
    {
     "data": {
      "text/plain": [
       "<Response [200]>"
      ]
     },
     "execution_count": 24,
     "metadata": {},
     "output_type": "execute_result"
    }
   ],
   "source": [
    "data"
   ]
  },
  {
   "cell_type": "code",
   "execution_count": 23,
   "metadata": {},
   "outputs": [],
   "source": [
    "import requests\n",
    "\n",
    "data = requests.get(load['3242']['image']['file_url'])\n",
    "with open(\"tmp.png\",\"wb\") as outfile:\n",
    "    #for content in data.content:\n",
    "    outfile.write(data.content)\n",
    "    outfile.close()"
   ]
  },
  {
   "cell_type": "code",
   "execution_count": 21,
   "metadata": {},
   "outputs": [],
   "source": [
    "with open(\"tmp\",\"wb\") as outfile:\n",
    "    #for content in data.content:\n",
    "    outfile.write(data.content)\n",
    "    outfile.close()"
   ]
  }
 ],
 "metadata": {
  "kernelspec": {
   "display_name": "Python 3 (ipykernel)",
   "language": "python",
   "name": "python3"
  },
  "language_info": {
   "codemirror_mode": {
    "name": "ipython",
    "version": 3
   },
   "file_extension": ".py",
   "mimetype": "text/x-python",
   "name": "python",
   "nbconvert_exporter": "python",
   "pygments_lexer": "ipython3",
   "version": "3.11.9"
  }
 },
 "nbformat": 4,
 "nbformat_minor": 4
}
