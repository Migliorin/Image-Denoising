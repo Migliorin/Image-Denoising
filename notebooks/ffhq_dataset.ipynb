{
 "cells": [
  {
   "cell_type": "code",
   "execution_count": 8,
   "metadata": {},
   "outputs": [],
   "source": [
    "import json"
   ]
  },
  {
   "cell_type": "code",
   "execution_count": 9,
   "metadata": {},
   "outputs": [],
   "source": [
    "with open(\"../data/ffhq-dataset-v2.json\",\"r\") as infile:\n",
    "    load = json.load(infile)"
   ]
  },
  {
   "cell_type": "code",
   "execution_count": 10,
   "metadata": {},
   "outputs": [
    {
     "data": {
      "text/plain": [
       "dict_keys(['category', 'metadata', 'image', 'thumbnail', 'in_the_wild'])"
      ]
     },
     "execution_count": 10,
     "metadata": {},
     "output_type": "execute_result"
    }
   ],
   "source": [
    "load['3242'].keys()"
   ]
  },
  {
   "cell_type": "code",
   "execution_count": 16,
   "metadata": {},
   "outputs": [
    {
     "data": {
      "text/plain": [
       "{'category': 'training',\n",
       " 'metadata': {'photo_url': 'https://www.flickr.com/photos/7952984@N02/11026347713/',\n",
       "  'photo_title': '',\n",
       "  'author': 'suran2007',\n",
       "  'country': '',\n",
       "  'license': 'Attribution License',\n",
       "  'license_url': 'https://creativecommons.org/licenses/by/2.0/',\n",
       "  'date_uploaded': '2013-11-24',\n",
       "  'date_crawled': '2018-10-10'},\n",
       " 'image': {'file_url': 'https://drive.google.com/uc?id=16umbkObKDcEC9rWTExiUliBKkTF45SJy',\n",
       "  'file_path': 'images1024x1024/03000/03242.png',\n",
       "  'file_size': 1510761,\n",
       "  'file_md5': '1c02a4b4c3aeb9df63783c0840889084',\n",
       "  'pixel_size': [1024, 1024],\n",
       "  'pixel_md5': 'a0dd45f1bb7f513dea41d50da42a6596',\n",
       "  'face_landmarks': [[376.21, 497.23],\n",
       "   [361.15, 552.88],\n",
       "   [354.52, 610.86],\n",
       "   [367.46, 668.29],\n",
       "   [389.01, 729.67],\n",
       "   [408.78, 804.34],\n",
       "   [421.9, 878.1],\n",
       "   [440.58, 943.08],\n",
       "   [498.92, 967.65],\n",
       "   [589.74, 960.81],\n",
       "   [690.79, 928.29],\n",
       "   [792.19, 884.29],\n",
       "   [885.51, 826.47],\n",
       "   [949.03, 750.71],\n",
       "   [965.88, 652.35],\n",
       "   [960.29, 558.12],\n",
       "   [951.29, 462.63],\n",
       "   [347.28, 384.34],\n",
       "   [362.36, 372.85],\n",
       "   [383.9, 375.36],\n",
       "   [405.26, 390.97],\n",
       "   [425.19, 408.37],\n",
       "   [478.86, 405.67],\n",
       "   [537.36, 372.99],\n",
       "   [600.72, 354.48],\n",
       "   [669.29, 368.11],\n",
       "   [731.4, 397.17],\n",
       "   [452.49, 477.29],\n",
       "   [428.63, 527.38],\n",
       "   [402.62, 572.79],\n",
       "   [379.83, 617.85],\n",
       "   [383.43, 664.88],\n",
       "   [401.39, 679.23],\n",
       "   [424.9, 684.79],\n",
       "   [457.92, 672.94],\n",
       "   [497.77, 663.59],\n",
       "   [386.62, 487.9],\n",
       "   [399.72, 473.36],\n",
       "   [424.31, 473.89],\n",
       "   [450.34, 487.34],\n",
       "   [423.6, 496.86],\n",
       "   [400.62, 496.15],\n",
       "   [560.01, 488.21],\n",
       "   [591.59, 463.44],\n",
       "   [627.85, 465.94],\n",
       "   [665.19, 478.14],\n",
       "   [627.86, 495.38],\n",
       "   [591.96, 496.1],\n",
       "   [420.08, 773.64],\n",
       "   [403.55, 742.77],\n",
       "   [416.29, 725.0],\n",
       "   [436.76, 732.53],\n",
       "   [463.68, 724.63],\n",
       "   [523.81, 735.92],\n",
       "   [595.44, 762.29],\n",
       "   [534.96, 806.64],\n",
       "   [484.71, 825.32],\n",
       "   [457.42, 829.99],\n",
       "   [433.91, 824.43],\n",
       "   [422.24, 807.74],\n",
       "   [427.79, 769.51],\n",
       "   [424.56, 755.15],\n",
       "   [442.69, 756.4],\n",
       "   [470.33, 754.96],\n",
       "   [574.08, 761.4],\n",
       "   [477.34, 788.52],\n",
       "   [449.7, 789.97],\n",
       "   [429.41, 784.05]]},\n",
       " 'thumbnail': {'file_url': 'https://drive.google.com/uc?id=14CLAeHjhn1GjYgaGb7Oh8j02SeIiFrJQ',\n",
       "  'file_path': 'thumbnails128x128/03000/03242.png',\n",
       "  'file_size': 31734,\n",
       "  'file_md5': '58e8889481fb32d16ed8ba3ac97b0acc',\n",
       "  'pixel_size': [128, 128],\n",
       "  'pixel_md5': 'c5d12c0feebfaf10ad5b2272c48780b2'},\n",
       " 'in_the_wild': {'file_url': 'https://drive.google.com/uc?id=1tUje0XDPWPVjjTtR8iYfbNZZfT0tc9e5',\n",
       "  'file_path': 'in-the-wild-images/03000/03242.png',\n",
       "  'file_size': 14739363,\n",
       "  'file_md5': '3cee3f594a2636bb42bbdc929fecda4c',\n",
       "  'pixel_size': [4256, 2832],\n",
       "  'pixel_md5': '3a8d2c9a80ebce0ec3dc92fd357d3823',\n",
       "  'face_rect': [1464, 572, 2356, 1464],\n",
       "  'face_landmarks': [[1757.0, 947.0],\n",
       "   [1731.0, 1013.0],\n",
       "   [1715.0, 1083.0],\n",
       "   [1723.0, 1155.0],\n",
       "   [1741.0, 1233.0],\n",
       "   [1755.0, 1327.0],\n",
       "   [1761.0, 1419.0],\n",
       "   [1775.0, 1501.0],\n",
       "   [1843.0, 1539.0],\n",
       "   [1955.0, 1543.0],\n",
       "   [2083.0, 1517.0],\n",
       "   [2213.0, 1477.0],\n",
       "   [2335.0, 1419.0],\n",
       "   [2423.0, 1335.0],\n",
       "   [2457.0, 1217.0],\n",
       "   [2463.0, 1101.0],\n",
       "   [2465.0, 983.0],\n",
       "   [1737.0, 805.0],\n",
       "   [1757.0, 793.0],\n",
       "   [1783.0, 799.0],\n",
       "   [1807.0, 821.0],\n",
       "   [1829.0, 845.0],\n",
       "   [1895.0, 849.0],\n",
       "   [1971.0, 817.0],\n",
       "   [2051.0, 803.0],\n",
       "   [2133.0, 829.0],\n",
       "   [2205.0, 873.0],\n",
       "   [1853.0, 933.0],\n",
       "   [1817.0, 991.0],\n",
       "   [1779.0, 1043.0],\n",
       "   [1745.0, 1095.0],\n",
       "   [1743.0, 1153.0],\n",
       "   [1763.0, 1173.0],\n",
       "   [1791.0, 1183.0],\n",
       "   [1833.0, 1173.0],\n",
       "   [1883.0, 1167.0],\n",
       "   [1771.0, 937.0],\n",
       "   [1789.0, 921.0],\n",
       "   [1819.0, 925.0],\n",
       "   [1849.0, 945.0],\n",
       "   [1815.0, 953.0],\n",
       "   [1787.0, 949.0],\n",
       "   [1983.0, 961.0],\n",
       "   [2025.0, 935.0],\n",
       "   [2069.0, 943.0],\n",
       "   [2113.0, 963.0],\n",
       "   [2065.0, 979.0],\n",
       "   [2021.0, 975.0],\n",
       "   [1773.0, 1291.0],\n",
       "   [1757.0, 1251.0],\n",
       "   [1775.0, 1231.0],\n",
       "   [1799.0, 1243.0],\n",
       "   [1833.0, 1237.0],\n",
       "   [1905.0, 1259.0],\n",
       "   [1989.0, 1301.0],\n",
       "   [1909.0, 1347.0],\n",
       "   [1845.0, 1363.0],\n",
       "   [1811.0, 1365.0],\n",
       "   [1783.0, 1355.0],\n",
       "   [1771.0, 1333.0],\n",
       "   [1783.0, 1287.0],\n",
       "   [1781.0, 1269.0],\n",
       "   [1803.0, 1273.0],\n",
       "   [1837.0, 1275.0],\n",
       "   [1963.0, 1297.0],\n",
       "   [1841.0, 1317.0],\n",
       "   [1807.0, 1315.0],\n",
       "   [1783.0, 1305.0]],\n",
       "  'face_quad': [[1364.64, 287.68],\n",
       "   [1225.18, 1539.96],\n",
       "   [2477.46, 1679.42],\n",
       "   [2616.92, 427.14]]}}"
      ]
     },
     "execution_count": 16,
     "metadata": {},
     "output_type": "execute_result"
    }
   ],
   "source": [
    "load['3242']"
   ]
  },
  {
   "cell_type": "code",
   "execution_count": 24,
   "metadata": {},
   "outputs": [
    {
     "data": {
      "text/plain": [
       "<Response [200]>"
      ]
     },
     "execution_count": 24,
     "metadata": {},
     "output_type": "execute_result"
    }
   ],
   "source": [
    "data"
   ]
  },
  {
   "cell_type": "code",
   "execution_count": 23,
   "metadata": {},
   "outputs": [],
   "source": [
    "import requests\n",
    "\n",
    "data = requests.get(load['3242']['image']['file_url'])\n",
    "with open(\"tmp.png\",\"wb\") as outfile:\n",
    "    #for content in data.content:\n",
    "    outfile.write(data.content)\n",
    "    outfile.close()"
   ]
  },
  {
   "cell_type": "code",
   "execution_count": 21,
   "metadata": {},
   "outputs": [],
   "source": [
    "with open(\"tmp\",\"wb\") as outfile:\n",
    "    #for content in data.content:\n",
    "    outfile.write(data.content)\n",
    "    outfile.close()"
   ]
  }
 ],
 "metadata": {
  "kernelspec": {
   "display_name": "Python 3 (ipykernel)",
   "language": "python",
   "name": "python3"
  },
  "language_info": {
   "codemirror_mode": {
    "name": "ipython",
    "version": 3
   },
   "file_extension": ".py",
   "mimetype": "text/x-python",
   "name": "python",
   "nbconvert_exporter": "python",
   "pygments_lexer": "ipython3",
   "version": "3.11.9"
  }
 },
 "nbformat": 4,
 "nbformat_minor": 4
}
